{
 "cells": [
  {
   "cell_type": "markdown",
   "metadata": {},
   "source": [
    "# Finanzas Públicas"
   ]
  },
  {
   "cell_type": "markdown",
   "metadata": {},
   "source": [
    "> ..."
   ]
  },
  {
   "cell_type": "markdown",
   "metadata": {},
   "source": [
    "- [Direccion General de Credito Publico](https://www.creditopublico.gob.do/)\n",
    "- [Presupuesto Nacional 2025](https://www.digepres.gob.do/wp-content/uploads/2024/10/01.-Proyecto-de-Ley-de-Presupuesto-Completo-con-Recibo.pdf)\n",
    "- [Direccion Nacional de Presupuesto](https://www.digepres.gob.do/)\n",
    "- https://binx.hacienda.gob.do/publicados\n",
    "- "
   ]
  }
 ],
 "metadata": {
  "language_info": {
   "name": "python"
  }
 },
 "nbformat": 4,
 "nbformat_minor": 2
}
