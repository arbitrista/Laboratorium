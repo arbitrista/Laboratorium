{
 "cells": [
  {
   "cell_type": "markdown",
   "metadata": {},
   "source": [
    "# Hacienda"
   ]
  },
  {
   "cell_type": "markdown",
   "metadata": {},
   "source": [
    "> La **política fiscal** es el conjunto de decisiones y acciones del gobierno relacionadas con la recaudación de ingresos, principalmente a través de impuestos, y el gasto público, con el objetivo de influir en la economía, promover el crecimiento económico, reducir el desempleo y mantener la estabilidad financiera."
   ]
  },
  {
   "cell_type": "markdown",
   "metadata": {},
   "source": [
    "## Terminologia"
   ]
  },
  {
   "cell_type": "markdown",
   "metadata": {},
   "source": [
    "- **Gasto de Capital**:  El gasto de capital son los recursos que el Gobierno Federal destina para aumentar y preservar los activos patrimoniales del país. Por ejemplo, crear bienes de capital, conservar los ya existentes, adquirir inmuebles y valores. También considera los desembolsos para amortizar los créditos adquiridos por el Estado.\n",
    "- ..."
   ]
  },
  {
   "cell_type": "markdown",
   "metadata": {},
   "source": [
    "## Presupuesto Nacional"
   ]
  },
  {
   "cell_type": "markdown",
   "metadata": {},
   "source": [
    "- ¿Cuál es nuestro modelo presupuestario?\n",
    "- ..."
   ]
  },
  {
   "cell_type": "markdown",
   "metadata": {},
   "source": [
    "## Inversiones"
   ]
  },
  {
   "cell_type": "markdown",
   "metadata": {},
   "source": [
    "> GDP / Investment Ratio"
   ]
  },
  {
   "cell_type": "markdown",
   "metadata": {},
   "source": [
    "## Referencias"
   ]
  },
  {
   "cell_type": "markdown",
   "metadata": {},
   "source": [
    "- [Presupuesto Nacional 2025](https://www.digepres.gob.do/wp-content/uploads/2024/10/01.-Proyecto-de-Ley-de-Presupuesto-Completo-con-Recibo.pdf)\n",
    "- [Direccion Nacional de Presupuesto](https://www.digepres.gob.do/)\n",
    "- [Direccion General de Credito Publico](https://www.creditopublico.gob.do/)\n",
    "- ..."
   ]
  }
 ],
 "metadata": {
  "language_info": {
   "name": "python"
  }
 },
 "nbformat": 4,
 "nbformat_minor": 2
}
