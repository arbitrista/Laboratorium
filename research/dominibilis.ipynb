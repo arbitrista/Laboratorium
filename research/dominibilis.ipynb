{
 "cells": [
  {
   "cell_type": "markdown",
   "metadata": {},
   "source": [
    "# Dominibilis"
   ]
  },
  {
   "cell_type": "markdown",
   "metadata": {},
   "source": [
    "> Plan de Renovación República Dominicana 2.0, una iniciativa diseñada para impulsar la convergencia (catch-up) de nuestra patria con la frontera de: ingresos per cápita, productiva, diversa (economía), tecnológica y científica.\n",
    "\n",
    "> Únete a nosotros en este emocionante viaje hacia una República Dominicana rica y bella; grande. ¡Plus Ultra; Dominicanos! \n",
    "\n",
    "> Nuestra honorable misión es redefinir/mejorar los cimientos de nuestra patria: la gestión pública, el sistema financiero, la investigación y desarrollo, los ecosistemas productivos, las exportaciones, el capital humano, la infraestructura, el marco legal y las inversiones extranjeras estratégicas; todo en aras de la riqueza, la belleza y la grandeza"
   ]
  },
  {
   "cell_type": "markdown",
   "metadata": {},
   "source": [
    "## Locus Problematis"
   ]
  },
  {
   "cell_type": "markdown",
   "metadata": {},
   "source": [
    ">  [Locus] de problemas a abordar con honor y honra por la Casa de Investigaciones: Políticas Públicas Arístides. Con la nobleza de espíritu y el discernimiento que nos legaron los sabios antiguos, nos disponemos a enfrentar estos desafíos con valentía y sabiduría, buscando soluciones que no solo beneficien a nuestra patria, sino que también eleven el bienestar de todos sus ciudadanos. "
   ]
  },
  {
   "cell_type": "markdown",
   "metadata": {},
   "source": [
    "### Producción: Diversa, Eficiente, Profunda y Robusta \n",
    "\n",
    "> En nuestra Renovatio estaremos abordando cuatro clases de problemas: el primero es caracterizar el aparato productivo de la economia nacional; el segundo es caracterizar el aparato productivo de la economía global; el tercero es diseñar un conjunto de estrategias, planes y mecanismos para converger con este; el cuarto es monitorear las fronteras tecnológicas-cientificas en pos de diseñar las estrategias de conquistas de esta; ¡Plus Ultra! "
   ]
  },
  {
   "cell_type": "markdown",
   "metadata": {},
   "source": [
    "### Inversiones Extranjeras Estratégicas: Útiles y Oportundas \n",
    "\n",
    "> Las inversiones extranjeras representan mecanismos cruciales para financiar las actividades económicas de un país; no obstante, para ser verdaderamente beneficiosas, deben dirigirse hacia la diversificación del aparato productivo y el aumento de la productividad en las empresas existentes. Por ello, propongo la creación de un conjunto de políticas e incentivos destinados a atraer inversiones capaces de cumplir con estos objetivos. "
   ]
  },
  {
   "cell_type": "markdown",
   "metadata": {},
   "source": [
    "### Comercio Exterior: Útil y Robusto\n",
    "\n",
    "> El papel del \"Comercio Exterior\" en nuestra nación es crucial, dada la limitación del mercado local. Sin embargo, hasta ahora, no hemos logrado aprovecharlo plenamente, ya que nuestras exportaciones son bastante básicas. Por tanto, propongo diseñar un conjunto de políticas e incentivos que no solo eleven el valor agregado de nuestras exportaciones, sino que también nos abran las puertas a nuevos mercados. "
   ]
  },
  {
   "cell_type": "markdown",
   "metadata": {},
   "source": [
    "### I+d+i: Adaptativo, Vinculado, Eficiente, Proactivo y Autonomo \n",
    "\n",
    ">  Los desafíos que nos presenta la economía nacional nos convocan a la honrada, honorable e imperiosa faena de diseñar, coordinar y monitorear el Sistema Nacional de I+D+I. Este sistema tendrá por gloriosa función de profundizar en nuestro dominio tecnológico sobre los ecosistemas productivos actuales; adquirir las capacidades necesarias para forjar nuevos ecosistemas productivos y explorar las fronteras de la ciencia y la tecnología con el fin de liderar nuevos ecosistemas productivos. "
   ]
  },
  {
   "cell_type": "markdown",
   "metadata": {},
   "source": [
    "### Finanzas: Adaptativo, Vinculado, Eficiente, Proactivo y Autonomo\n",
    "\n",
    "> Las necesidades de nuestra economía real nos convocan a diseñar un mercado financiero que riegue y potencie un subconjunto de los sistemas productivos nacionales presentes y viables, permitiendo establecer las semillas para los nuevos. Todo esto, bajo el manto de las buenas prácticas financieras, que garanticen eficiencia, robustez, confianza y sostenibilidad. \n"
   ]
  },
  {
   "cell_type": "markdown",
   "metadata": {},
   "source": [
    "### Capital Humano: Adaptativo, Vinculado, Eficiente, Proactivo y Autonomo \n",
    "\n",
    "> Las exigencias de nuestra economía palpable nos llaman a concebir un \"Sistema de Formación Humana\" capaz de formar individuos capaces de afrontar los desafíos de la nación, para esto es clave centrarse en el desarrollo de habilidades y capacidades avanzadas de modelado. \n"
   ]
  },
  {
   "cell_type": "markdown",
   "metadata": {},
   "source": [
    "### Infraestructura: Oportuna, Competitiva, Vinculado \n",
    "\n",
    "> La infraestructura constituye los medios físicos y virtuales sobre los cuales los agentes de una sociedad desempeñan sus funciones. Resulta conveniente adoptar un enfoque sistemático en el desarrollo de la infraestructura, considerando las necesidades de los distintos sectores de la sociedad, y establecer mecanismos de evaluación para medir su impacto. \n"
   ]
  },
  {
   "cell_type": "markdown",
   "metadata": {},
   "source": [
    "###  Res Publica: Adaptavio, Eficiente, Honrado, Inteligente, Participativo \n",
    "\n",
    " Las necesidades de belleza y riqueza (grandeza) que la honorable, honrada y magnánima sociedad dominicana exige y merece, nos congregan a sus hijos en la ardua y gloriosa tarea de mejorar la capa más fundamental de la patria: el estado (la res publica). En esta gesta, nos proponemos abordar problemas dentro del marco del Módelo de Sistema Viable (MSV). Esto implica:\n",
    "\n",
    "- Nivel 1 - Operaciones: Diseño y re-organización de las instituciones en aras de mejorar la operativad, eficacia respondiedo a las estrategias y políticas establecidas,\n",
    "- Nivel 2 - Coordinación: Proveer coordinación y manejo de conflictos, así como fomentar interacciones y sinergias entre instituciones, empresas, academia y otros actores sociales,\n",
    "- Nivel 3 - Control: Implementación de mecanismos supervisión y auditoria para garantizar que los recursos se utilicen de manera óptima y que las operaciones se alineen con las políticas y estrategias establecidas,\n",
    "- Nivel 4 - Inteligencia: Estudio y evaluación continua de las instituciones y políticas públicas, explorando el entorno y adaptándose a los cambios para asegurar la sostenibilidad a largo plazo,\n",
    "- Nivel 5 - Política (Estrategia): Definición de valores y metas a largo plazo, asegurando que todas las acciones y decisiones se orienten hacia la belleza, riqueza (grandeza) de la patria.\n",
    "\n",
    "A través de este enfoque integral del VSM, buscamos no solo la eficiencia y la robustez, sino también la confianza y la sostenibilidad en la gestión de la cosa pública, asegurando así un futuro próspero para todos. "
   ]
  },
  {
   "cell_type": "markdown",
   "metadata": {},
   "source": [
    "## Locus Instrumenta\n",
    "> [Locus] de instrumentos que nos permitirán afrontar los grandes desafíos económicos de nuestra patria, con el denuedo y la sabiduría que nuestros predecesores legaron, forjando un porvenir próspero y lleno de esperanzas. En este empeño, cual Quijotes modernos, nos armamos de valor y conocimiento para enfrentarnos a los gigantes de la adversidad económica, buscando no solo sobrevivir, sino prosperar y elevar nuestra nación a nuevas alturas de gloria y bienestar. \n",
    "\n"
   ]
  },
  {
   "cell_type": "markdown",
   "metadata": {},
   "source": [
    "## Bibliografia"
   ]
  },
  {
   "cell_type": "markdown",
   "metadata": {},
   "source": [
    "- Fundar. (2020, noviembre 30). Fundar. https://fund.ar/\n",
    "- The Growth Lab. (s/f). Harvard.edu. Recuperado el 28 de mayo de 2024, de https://growthlab.hks.harvard.edu/\n",
    "- Defoe, Daniel. A Plan of the English Commerce.. J. & J. Rivington, 1749.\n",
    "- De Montchrestien, Antoine. Traicté de l'oeconomie politique. Vol. 16. Librairie Droz, 1999.\n",
    "- Laffemas, Barthélemy de. \"Mémoires sur le commerce.\" (No Title).\n",
    "- de Uztáriz, Jerónimo. Theorica y practica de comercio y de marina: en diferentes discursos y calificados exemplares que con específicas providencias se procuran adaptar a la Monarquía Española... En la, 1742.\n",
    "- Botero, Giovanni, Massimo Ciavolella, and Luigi Ballerini. On the Causes of the Greatness and Magnificence of Cities, 1588. University of Toronto Press, 2012.\n",
    "- Heckscher, Eli F. Mercantilism. Routledge, 2013.\n",
    "- Serra, Antonio. A short treatise on the wealth and poverty of nations (1613). Anthem Press, 2011.\n",
    "- Wen, Yi. Making of An Economic Superpower, The: Unlocking China's Secret of Rapid Industrialization. World Scientific, 2016.\n",
    "- Johnson, Chalmers. MITI and the Japanese miracle: the growth of industrial policy, 1925-1975. Stanford university press, 1982.\n",
    "- Reinert, Erik. \"How rich nations got rich: Essays in the history of economic policy.\" Working paper http://urn. nb. no/URN: NBN: no-3600 (2004).\n",
    "- Von Hörnigk, Philip Wilhelm. \"Austria over all if she only will.\" Early Economic Thought (1965).\n",
    "- Hidalgo, Cesar. Why information grows: The evolution of order, from atoms to economies. Basic Books, 2015.\n",
    "- Lee, Keun. The art of economic catch-up: Barriers, detours and leapfrogging in innovation systems. Cambridge University Press, 2019.\n",
    "- Nelson, Richard R., ed. National innovation systems: a comparative analysis. Oxford University Press, USA, 1993.\n",
    "- de Witt, Johan. The True Interest and Political Maxims, of the Republic of Holland. No. 8208. J. Nourse, 1746.\n",
    "- Schuurman, Paul. \"The Cat's Grand Strategy: Pieter de la Court (1618–1685) on Holland and the Challenges and Prospects of Free-Riding Behaviour during the General Crisis of the Seventeenth Century.\" History of European Ideas 41.3 (2015): 338-356.\n",
    "- Abramovitz, Moses. \"Catching up, forging ahead, and falling behind.\" The journal of economic history 46.2 (1986): 385-406.\n",
    "- Ohno, Kenichi. Learning to industrialize: From given growth to policy-aided value creation. 2013.\n",
    "- Bonvillian, William Boone, Richard Van Atta, and Patrick Windham. The DARPA model for transformative technologies: perspectives on the US defense advanced research projects agency. Open Book Publishers, 2019.\n",
    "- Lee, K., & Malerba, F. (2018). Economic catch-up by latecomers as an evolutionary process. Modern Evolutionary Economics: An Overview, 172–207.\n",
    "- Nelson, R. R. (1985). An evolutionary theory of economic change. harvard university press.\n",
    "- Kim, Byung-Kook, and Ezra F. Vogel, eds. The Park Chung Hee Era: The Transformation of South Korea. Harvard University Press, 2011.\n",
    "- Caraballo, J. G., & Jiang, X. (2016). Value-Added Erosion in Global Value Chains: An Empirical Assessment. 50(1), 288–296. https://doi.org/10.1080/00213624.2016.1148991\n",
    "- Hausmann, R., Kennedy, J. F., Hwang, J., & Rodrik, D. (2006). What You Export Matters.\n",
    "- Hidalgo, C. A., Winger, B., Barabási, A. L., & Hausmann, R. (2007). The product space conditions the development of nations. 317(5837), 482–487. https://doi.org/10.1126/SCIENCE.1144581/SUPPL_FILE/HIDALGO.SOM.PDF\n",
    "- Hausmann, R., Hidalgo, C. A., Hausmann, R., & Hidalgo, C. A. (2011). The network structure of economic output. J Econ Growth, 16, 309–342. https://doi.org/10.1007/s10887-011-9071-4\n",
    "- Wade, Robert. \"Governing the market: Economic theory and the role of government in East Asian industrialization.\" (2018): 1-496.\n",
    "- Johnson, Chalmers. MITI and the Japanese miracle: the growth of industrial policy, 1925-1975. Stanford university press, 1982.\n",
    "- Unger, Roberto Mangabeira. The knowledge economy. Verso Books, 2022.\n",
    "- Berlinski, David J. \"Systems analysis.\" Urban Affairs Quarterly 6.1 (1970): 104-126.\n",
    "- Porter, Michael E. Competitive advantage of nations: creating and sustaining superior performance. simon and schuster, 2011.\n",
    "- Hanafi, Muhammad, et al. \"Modelling competitive advantage of nation: a literature review.\" Competitiveness Review: An International Business Journal 27.4 (2017): 335-365.\n",
    "- Bessen, James. Learning by doing: the real connection between innovation, wages, and wealth. Yale University Press, 2015.\n",
    "- Klenow, Peter J. \"Learning curves and the cyclical behavior of manufacturing industries.\" Review of Economic dynamics 1.2 (1998): 531-550.\n",
    "- Argote, L., & Epple, D. (1990). Learning curves in manufacturing. 247(4945), 920–924. https://doi.org/10.1126/SCIENCE.247.4945.920\n",
    "- Gao, J., Jun, B., Pentland, A. “Sandy,” Zhou, T., & Hidalgo, C. A. (2017). Collective Learning in China’s Regional Economic Development. https://doi.org/10.48550/arxiv.1703.01369\n",
    "- Zheng, S., Sun, W., Wu, J., & Kahn, M. E. (2017). The birth of edge cities in China: Measuring the effects of industrial parks policy. Journal of Urban Economics, 100, 80–103. https://doi.org/10.1016/J.JUE.2017.05.002\n",
    "- Schelling, Thomas C. Micromotives and macrobehavior. WW Norton & Company, 2006.\n",
    "- Metropolis, Nicholas, and Gian-Carlo Rota, eds. A new era in computation. Mit Press, 1993.\n",
    "- Rostow, Walt Whitman. \"The stages of economic growth.\" The economic history review 12.1 (1959): 1-16.\n",
    "- Nelson, Richard R. The sources of economic growth. Harvard University Press, 2000.\n",
    "- Nelson, Richard R. Technology, institutions, and economic growth. Harvard University Press, 2005.\n",
    "- Soete, Luc, and Chris Freeman. The economics of industrial innovation. routledge, 2012.\n",
    "- Dosi, Giovanni. Technical change and industrial transformation: the theory and an application to the semiconductor industry. Springer, 1984."
   ]
  },
  {
   "cell_type": "markdown",
   "metadata": {},
   "source": [
    "## Notas al Pie"
   ]
  },
  {
   "cell_type": "markdown",
   "metadata": {},
   "source": [
    "- Profundo: Cadenas de valor largas (Deep Tech).\n",
    "- Robusto: Redundancia local e internacional (compradores y vendedores).\n",
    "- Vinculado: Responde a las necesidades del aparato productivo actual.\n",
    "- Proactivo: Desarrolla capacidades para la siguiente fase de transformación del aparato productivo.\n",
    "- Adaptativo: Los mecanismos de I+D+I deben adaptarse a las capacidades y necesidades del tejido empresarial.\n",
    "- El Modelo de Sistema Viable (Viable System Model - VSM): es una teoría desarrollada por Stafford Beer para entender y organizar sistemas complejos de manera que sean viables y sostenibles.\n",
    "- Refactorización institucional para asegurar una adecuada cohesión y eficacia en sus funciones.\""
   ]
  }
 ],
 "metadata": {
  "language_info": {
   "name": "python"
  }
 },
 "nbformat": 4,
 "nbformat_minor": 2
}
