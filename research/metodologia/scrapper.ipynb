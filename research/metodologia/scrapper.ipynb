{
 "cells": [
  {
   "cell_type": "code",
   "execution_count": 1,
   "metadata": {},
   "outputs": [],
   "source": [
    "from autoscraper import AutoScraper"
   ]
  },
  {
   "cell_type": "code",
   "execution_count": 4,
   "metadata": {},
   "outputs": [
    {
     "name": "stdout",
     "output_type": "stream",
     "text": [
      "['What does the \"yield\" keyword do in Python?', 'Does Python have a ternary conditional operator?', 'What are metaclasses in Python?', 'How do I merge two dictionaries in a single expression in Python?', 'How slicing in Python works', 'Relative imports for the billionth time', 'What is the difference between @staticmethod and @classmethod in Python?', \"What does the 'b' character do in front of a string literal?\"]\n"
     ]
    }
   ],
   "source": [
    "from autoscraper import AutoScraper\n",
    "\n",
    "url = 'https://finance.yahoo.com/quote/AAPL/'\n",
    "\n",
    "wanted_list = [\"124.81\"]\n",
    "\n",
    "scraper = AutoScraper()\n",
    "\n",
    "# Here we can also pass html content via the html parameter instead of the url (html=html_content)\n",
    "result = scraper.build(url, wanted_list)\n",
    "print(result)"
   ]
  },
  {
   "cell_type": "code",
   "execution_count": 5,
   "metadata": {},
   "outputs": [
    {
     "data": {
      "text/plain": [
       "[]"
      ]
     },
     "execution_count": 5,
     "metadata": {},
     "output_type": "execute_result"
    }
   ],
   "source": [
    "scraper.get_result_exact('https://finance.yahoo.com/quote/MSFT/')"
   ]
  }
 ],
 "metadata": {
  "kernelspec": {
   "display_name": "Python 3",
   "language": "python",
   "name": "python3"
  },
  "language_info": {
   "codemirror_mode": {
    "name": "ipython",
    "version": 3
   },
   "file_extension": ".py",
   "mimetype": "text/x-python",
   "name": "python",
   "nbconvert_exporter": "python",
   "pygments_lexer": "ipython3",
   "version": "3.10.12"
  }
 },
 "nbformat": 4,
 "nbformat_minor": 2
}
