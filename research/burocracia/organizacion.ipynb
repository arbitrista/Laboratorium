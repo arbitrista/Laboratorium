{
 "cells": [
  {
   "cell_type": "markdown",
   "metadata": {},
   "source": [
    "# La Estructura del Estado"
   ]
  },
  {
   "cell_type": "markdown",
   "metadata": {},
   "source": [
    "> ...\n",
    "\n",
    "Tipologia:\n",
    "- Direcciones\n",
    "- Institutos\n",
    "- ..."
   ]
  },
  {
   "cell_type": "code",
   "execution_count": 65,
   "metadata": {},
   "outputs": [],
   "source": [
    "import requests\n",
    "from rich import print\n",
    "from bs4 import BeautifulSoup\n",
    "import pandas as pd\n",
    "from io import StringIO\n",
    "import duckdb"
   ]
  },
  {
   "cell_type": "code",
   "execution_count": 77,
   "metadata": {},
   "outputs": [],
   "source": [
    "root  = '/home/dvictoriano/Code/Laboratorium'\n",
    "ds =  pd.read_excel(f'{root}/datasets/CatalogoOrganismos.xlsx')"
   ]
  },
  {
   "cell_type": "code",
   "execution_count": 104,
   "metadata": {},
   "outputs": [],
   "source": [
    "import fs\n",
    "import fs.copy\n",
    "\n",
    "mem_fs = fs.open_fs('mem://')\n"
   ]
  },
  {
   "cell_type": "code",
   "execution_count": 107,
   "metadata": {},
   "outputs": [],
   "source": [
    "output  = !curl 'https://map.gob.do/COEDOM/Home/Details/191?Ruta=2' --compressed -H 'User-Agent: Mozilla/5.0 (X11; Ubuntu; Linux x86_64; rv:131.0) Gecko/20100101 Firefox/131.0' -H 'Accept: text/html,application/xhtml+xml,application/xml;q=0.9,image/avif,image/webp,image/png,image/svg+xml,*/*;q=0.8' -H 'Accept-Language: en-US,en;q=0.5' -H 'Accept-Encoding: gzip, deflate, br, zstd' -H 'Referer: https://map.gob.do/COEDOM/Home/SearchAZ?page=1' -H 'Connection: keep-alive' -H 'Cookie: _ga_T38J33J49S=GS1.1.1729788674.2.0.1729788689.45.0.0; _ga=GA1.3.1643063522.1729627237; _ga_TBZ2PDZ7M7=GS1.1.1729788675.2.0.1729788689.46.0.0; __cf_bm=TKlT3afSNLGMqYmU051tYciVVmYUZUKPRaIMIQjgR2E-1729794424-1.0.1.1-.Ky_ACjgxlDZHbhjVGKul151Ji3hLI9nQvgqJRgCQcXuYvd5Au6E6FTJ18cZtnJBMsk6hWRx7B5pAuCcTtrNyA; __bs_id=GA1.1.1643063522.1729627237; _gid=GA1.3.668792708.1729788676; __RequestVerificationToken_L0NPRURPTQ2=nqWoUJzOlh51fbh78Jlaqp0q1ozM-VruFMcDjB-gFfEdA4DiauiWIAyDfX6xz1nAHwvjgDQ3w_2dhSvf8vG3uLRPu2NablZz22RbKZDAt101; cf_clearance=EbtMgQ2CbIov1FGosUljWFkJs0lvO01UuhXBEUMGo2k-1729794292-1.2.1.1-8E7qxuDeEAsH36aUDPgOvx4idGFK3lAWRwlCrk0eHtt8OoTHB5GLZx_9lMe0kYZHGRH9WQSzyOjkwi3uFKKHnoTbEDzVoWF7cSp.OrMfrZvg1DWyyN0RyaSiOtu0ejf1m48d6g8CYhHyXSNhmEH_mFYVwbhsB04DPZoRgFaWS4gmJGQDpc8CIfNJ0H_10Yg1Wr.KxtpJ8TVqh9wXX.4tjkrpj4.HoD_8LOtw.IjTh3Z1WvhtmRpqDsUVvGSjCcp7I1hsMehxG4DAv5AytzdvaBgFoyoVTOS5rDE5FhF6HeBuUkjx3p1z_ggU._tj2b_emZ9XtL98DdJc_TdyoMfHuw' -H 'Upgrade-Insecure-Requests: 1' -H 'Sec-Fetch-Dest: document' -H 'Sec-Fetch-Mode: navigate' -H 'Sec-Fetch-Site: same-origin' -H 'Sec-Fetch-User: ?1' -H 'Priority: u=0, i' -H 'Pragma: no-cache' -H 'Cache-Control: no-cache'"
   ]
  },
  {
   "cell_type": "code",
   "execution_count": 62,
   "metadata": {},
   "outputs": [],
   "source": [
    "ds = [pd.read_html(StringIO(page))[0] for page in pages]\n",
    "\n",
    "dsorganismos =  pd.concat(ds)\n",
    "dsorganismos = dsorganismos[~dsorganismos.iloc[:, 0].str.contains('Siguiente', na=False)]\n",
    "dsorganismos = dsorganismos[~dsorganismos.iloc[:, 0].str.contains('Primero', na=False)]\n",
    "\n",
    "columns_to_remove  = ['Unnamed: 3', 'Unnamed: 4', 'Unnamed: 5']\n",
    "dsorganismos = dsorganismos.drop(columns=columns_to_remove)\n"
   ]
  },
  {
   "cell_type": "code",
   "execution_count": 111,
   "metadata": {},
   "outputs": [],
   "source": [
    "from autoscraper import AutoScraper"
   ]
  },
  {
   "cell_type": "code",
   "execution_count": 113,
   "metadata": {},
   "outputs": [
    {
     "data": {
      "text/html": [
       "<pre style=\"white-space:pre;overflow-x:auto;line-height:normal;font-family:Menlo,'DejaVu Sans Mono',consolas,'Courier New',monospace\"><span style=\"font-weight: bold\">[</span><span style=\"color: #008000; text-decoration-color: #008000\">'230.64'</span>, <span style=\"color: #008000; text-decoration-color: #008000\">'17.70'</span>, <span style=\"color: #008000; text-decoration-color: #008000\">'56,600.00'</span>, <span style=\"color: #008000; text-decoration-color: #008000\">'25.250'</span>, <span style=\"color: #008000; text-decoration-color: #008000\">'12.70'</span>, <span style=\"color: #008000; text-decoration-color: #008000\">'45.85'</span>, <span style=\"color: #008000; text-decoration-color: #008000\">'1.3250'</span>, <span style=\"color: #008000; text-decoration-color: #008000\">'7.30'</span>, <span style=\"color: #008000; text-decoration-color: #008000\">'111.00'</span>, <span style=\"color: #008000; text-decoration-color: #008000\">'76.20'</span>, <span style=\"color: #008000; text-decoration-color: #008000\">'40.60'</span><span style=\"font-weight: bold\">]</span>\n",
       "</pre>\n"
      ],
      "text/plain": [
       "\u001b[1m[\u001b[0m\u001b[32m'230.64'\u001b[0m, \u001b[32m'17.70'\u001b[0m, \u001b[32m'56,600.00'\u001b[0m, \u001b[32m'25.250'\u001b[0m, \u001b[32m'12.70'\u001b[0m, \u001b[32m'45.85'\u001b[0m, \u001b[32m'1.3250'\u001b[0m, \u001b[32m'7.30'\u001b[0m, \u001b[32m'111.00'\u001b[0m, \u001b[32m'76.20'\u001b[0m, \u001b[32m'40.60'\u001b[0m\u001b[1m]\u001b[0m\n"
      ]
     },
     "metadata": {},
     "output_type": "display_data"
    }
   ],
   "source": [
    "url = 'https://finance.yahoo.com/quote/AAPL/'\n",
    "\n",
    "wanted_list = [\"230.64\"]\n",
    "\n",
    "scraper = AutoScraper()\n",
    "\n",
    "# Here we can also pass html content via the html parameter instead of the url (html=html_content)\n",
    "result = scraper.build(url, wanted_list)\n",
    "print(result)"
   ]
  },
  {
   "cell_type": "code",
   "execution_count": 118,
   "metadata": {},
   "outputs": [
    {
     "data": {
      "text/plain": [
       "┌────────────────────────────────────────────────────────────┬───────────────────────────────────────────┬─────────────┐\n",
       "│                         Organismo                          │                 Tipología                 │   Sector    │\n",
       "│                          varchar                           │                  varchar                  │   varchar   │\n",
       "├────────────────────────────────────────────────────────────┼───────────────────────────────────────────┼─────────────┤\n",
       "│ Comisión Permanente para la Reforma y Modernización de l…  │ Órgano Colegiado con Estructura Operativa │ Defensa     │\n",
       "│ Fondo Patrimonial de las Empresas Reformadas (FONPER)      │ Organismo Descentralizado Funcionalmente  │ Presidencia │\n",
       "└────────────────────────────────────────────────────────────┴───────────────────────────────────────────┴─────────────┘"
      ]
     },
     "execution_count": 118,
     "metadata": {},
     "output_type": "execute_result"
    }
   ],
   "source": [
    "duckdb.sql(\"\"\"\n",
    "    SELECT *\n",
    "    FROM dsorganismos\n",
    "    where organismo like '%Reforma%'\n",
    "    \"\"\")"
   ]
  },
  {
   "cell_type": "markdown",
   "metadata": {},
   "source": [
    "## Referencias"
   ]
  },
  {
   "cell_type": "markdown",
   "metadata": {},
   "source": [
    "- [Organismos del Estado Dominicano](https://www.sismap.gob.do/Central/Home/About)\n",
    "\n",
    "- [Listado de Organismos](https://www.sismap.gob.do/GestionPublica/Organismos)\n",
    "\n",
    "- [Informacin General de RD](https://www.presidencia.gob.do/acerca-de-rd/informacion-general)\n",
    "\n",
    "- [Miguel Collado: RD es el cuarto país de América Latina con mayor porcentaje de empleados públicos](https://www.diariolibre.com/economia/macroeconomia/2024/06/20/cuanto-gasta-el-gobierno-en-la-nomina-publica/2761319)\n",
    "\n",
    "- [Consulta de Organismos](https://map.gob.do/COEDOM/Home/Search)\n",
    "\n",
    "- https://www.sismap.gob.do/Municipal/\n",
    "\n",
    "- https://sismap.gob.do/\n",
    "\n",
    "- [Clasificación de los Organismos de la Administración del Estado Dominicano](https://map.gob.do/COEDOM/Home/Clasificacion)\n",
    "\n",
    "- [Clasificadores Presupuestarios](https://www.digepres.gob.do/publicaciones/clasificadores-presupuestarios/)"
   ]
  }
 ],
 "metadata": {
  "kernelspec": {
   "display_name": "Python 3",
   "language": "python",
   "name": "python3"
  },
  "language_info": {
   "codemirror_mode": {
    "name": "ipython",
    "version": 3
   },
   "file_extension": ".py",
   "mimetype": "text/x-python",
   "name": "python",
   "nbconvert_exporter": "python",
   "pygments_lexer": "ipython3",
   "version": "3.10.12"
  }
 },
 "nbformat": 4,
 "nbformat_minor": 2
}
