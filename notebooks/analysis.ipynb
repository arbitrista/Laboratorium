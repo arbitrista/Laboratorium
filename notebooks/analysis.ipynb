{
 "cells": [
  {
   "cell_type": "code",
   "execution_count": 2,
   "metadata": {},
   "outputs": [],
   "source": [
    "import pandas as pd"
   ]
  },
  {
   "cell_type": "code",
   "execution_count": 11,
   "metadata": {},
   "outputs": [],
   "source": [
    "data = pd.read_csv('Estadísticas_de_ejecución_de_los_gastos_por_institución-1.csv',  encoding='latin-1')"
   ]
  },
  {
   "cell_type": "code",
   "execution_count": 26,
   "metadata": {},
   "outputs": [],
   "source": [
    "# data.columns\n",
    "data.rename(columns={\n",
    "    'CAPITULO':'CAPITULO',\n",
    "    'SUBCAPITULO':'SUBCAPITULO',\n",
    "    'UNIDAD EJECUTORA':'UNIDAD_EJECUTORA',\n",
    "    'PROGRAMA':'PROGRAMA',\n",
    "    'SUBPROGRAMA':'SUBPROGRAMA',\n",
    "    'PROYECTO':'PROYECTO',\n",
    "    'ACTIVIDAD/OBRA':'ACTIVIDAD_OBRA',\n",
    "    'PRESUPUESTO INICIAL':'PRESUPUESTO_INICIAL',\n",
    "    'PRESUPUESTO VIGENTE':'PRESUPUESTO_VIGENTE',\n",
    "    'DEVENGADO ':'DEVENGADO',\n",
    "    'MES':'MES',\n",
    "    'AÑO':'ANIO'\n",
    "\n",
    "}, inplace=True)"
   ]
  },
  {
   "cell_type": "markdown",
   "metadata": {},
   "source": [
    "data"
   ]
  },
  {
   "cell_type": "code",
   "execution_count": 62,
   "metadata": {},
   "outputs": [],
   "source": [
    "import duckdb\n",
    "import json\n",
    "import copy"
   ]
  },
  {
   "cell_type": "code",
   "execution_count": 41,
   "metadata": {},
   "outputs": [],
   "source": [
    "capitulo =  duckdb.query(\"SELECT CAPITULO,  SUM(PRESUPUESTO_INICIAL) INICIAL, SUM(PRESUPUESTO_VIGENTE) VIGENTE, SUM(DEVENGADO) DEVENGADO FROM data WHERE ANIO = 2023 GROUP BY CAPITULO \").df()\n",
    "subcap = duckdb.query(\"SELECT CAPITULO, SUBCAPITULO,  SUM(PRESUPUESTO_INICIAL) INICIAL, SUM(PRESUPUESTO_VIGENTE) VIGENTE, SUM(DEVENGADO) DEVENGADO FROM data WHERE ANIO = 2023 GROUP BY CAPITULO, SUBCAPITULO\").df()\n",
    "ue = duckdb.query(\"SELECT CAPITULO, SUBCAPITULO, UNIDAD_EJECUTORA,  SUM(PRESUPUESTO_INICIAL) INICIAL, SUM(PRESUPUESTO_VIGENTE) VIGENTE, SUM(DEVENGADO) DEVENGADO FROM data WHERE ANIO = 2023 GROUP BY CAPITULO, SUBCAPITULO, UNIDAD_EJECUTORA\").df()"
   ]
  },
  {
   "cell_type": "code",
   "execution_count": 80,
   "metadata": {},
   "outputs": [],
   "source": [
    "# capitulo.to_json('capitulo.json', orient='records')\n",
    "nivel0  =  json.loads(capitulo.to_json(orient='records'))\n",
    "nivel1  =  json.loads(subcap.to_json(orient='records'))\n",
    "nivel2  =  json.loads(ue.to_json(orient='records'))\n",
    "data  = copy.deepcopy(nivel0)"
   ]
  },
  {
   "cell_type": "code",
   "execution_count": 87,
   "metadata": {},
   "outputs": [],
   "source": [
    "VALUE_COLUMN = 'INICIAL'\n",
    "\n",
    "for item in data:\n",
    "    item['children'] =  [x for x in nivel1 if x['CAPITULO'] == item['CAPITULO']]\n",
    "    item['name'] = item['CAPITULO']\n",
    "    item['value'] = item[VALUE_COLUMN]\n",
    "\n",
    "for item in nivel1:\n",
    "    item['children'] =  [x for x in nivel2 if x['SUBCAPITULO'] == item['SUBCAPITULO']]\n",
    "    item['name'] = item['SUBCAPITULO']\n",
    "    item['value'] = item[VALUE_COLUMN]\n",
    "\n",
    "for item in nivel2:\n",
    "    item['name'] = item['UNIDAD_EJECUTORA']\n",
    "    item['value'] = item[VALUE_COLUMN]"
   ]
  },
  {
   "cell_type": "code",
   "execution_count": 86,
   "metadata": {},
   "outputs": [],
   "source": [
    "with open('data.json', 'w') as file:\n",
    "    json.dump(data, file, indent=4)  # 'indent' argument makes the file more readable "
   ]
  }
 ],
 "metadata": {
  "kernelspec": {
   "display_name": "Python 3",
   "language": "python",
   "name": "python3"
  },
  "language_info": {
   "codemirror_mode": {
    "name": "ipython",
    "version": 3
   },
   "file_extension": ".py",
   "mimetype": "text/x-python",
   "name": "python",
   "nbconvert_exporter": "python",
   "pygments_lexer": "ipython3",
   "version": "3.10.12"
  }
 },
 "nbformat": 4,
 "nbformat_minor": 2
}
